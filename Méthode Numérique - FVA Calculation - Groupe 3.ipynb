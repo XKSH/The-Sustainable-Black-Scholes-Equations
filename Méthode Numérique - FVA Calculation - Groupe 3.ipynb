{
 "cells": [
  {
   "cell_type": "markdown",
   "metadata": {},
   "source": [
    "# The FVA"
   ]
  },
  {
   "cell_type": "markdown",
   "metadata": {},
   "source": [
    "The main objective of this project is to claculate the FVA (funding valuation adjustment) of a portfolio of options which have the same underlying asset but different maturities and strikes.  \n",
    "We can recall that the FVA is originated from the funding costs over OIS, and equal to: \n",
    "\n",
    "\\begin{equation}\n",
    "FVA_{t}=\\Theta_{t}^{0}-\\Theta_{t}=E_{t}[\\int_{t}^{T} e^{-r(s-t)}\\lambda_{s}(u(s,S_{s})-\\alpha f\\sigma S_{s}|\\partial_{S}u(s,S_{s})|)^{+}ds]\n",
    "\\end{equation}\n",
    "\n",
    "Its parameters are volatility $\\sigma$, funding liquidity basis $\\lambda$, risk free interest rate $r$, quantile level $f$, and mis-hedge parameter $\\alpha$. The underlying asset S is definitely included."
   ]
  },
  {
   "cell_type": "markdown",
   "metadata": {},
   "source": [
    "# The Sustainable Black-Scholes PDE"
   ]
  },
  {
   "cell_type": "markdown",
   "metadata": {},
   "source": [
    "$$\n",
    "\\partial_{t}v+\\mathcal{A}_{S}^{bs}+\\lambda(u_{bs}-v-\\alpha f \\sigma S|\\Delta_{bs}-\\partial_{S}v|)^{+}-rv=0\\ on\\ [0,T) \\times (0,\\infty)\n",
    "$$\n",
    "where $v(T,S)=0$ for $S$ on $(0,\\infty)$ as the terminal condition, $\\mathcal{A}_{S}^{bs}=(r-q)S\\partial_{S}+\\dfrac {1} {2} \\sigma^{2}S^{2}\\partial^{2}_S$.  "
   ]
  },
  {
   "cell_type": "markdown",
   "metadata": {},
   "source": [
    "# Global import："
   ]
  },
  {
   "cell_type": "code",
   "execution_count": 10,
   "metadata": {
    "collapsed": true
   },
   "outputs": [],
   "source": [
    "import numpy as np\n",
    "from scipy.stats import norm\n",
    "import matplotlib.pyplot as plt"
   ]
  },
  {
   "cell_type": "markdown",
   "metadata": {},
   "source": [
    "# The B-S portofolio value"
   ]
  },
  {
   "cell_type": "markdown",
   "metadata": {},
   "source": [
    "We have, for $t \\leq T^i$:\n",
    "\\begin{equation}\n",
    "   u_{BS}= \\sum_{i=1}^{n}C_t^{i} = \\sum_{i=1}^{n}[S_t^{i} \\mathcal{N} \\left( d_+^i \\right) - K_i e^{-r (T^{i} - t)} \\mathcal{N} \\left( d_-^{i} \\right)]\n",
    "\\end{equation}\n",
    "with: $d_{\\pm}^{i} = \\frac{1}{\\sigma \\sqrt{T^i - t}} \\left[\n",
    "\\ln \\left( \\frac{S_t}{K^i} \\right) + \\left( r \\pm \\frac{\\sigma^2}{2} \\right) (T^i - t)\n",
    "\\right]$ where $\\mathcal{N}$ is the standard normal distribution CDF."
   ]
  },
  {
   "cell_type": "markdown",
   "metadata": {},
   "source": [
    "# Individual option"
   ]
  },
  {
   "cell_type": "code",
   "execution_count": 11,
   "metadata": {
    "collapsed": true
   },
   "outputs": [],
   "source": [
    "def bs_call_price(S=100., r=0.02, q=0.01, sigma=0.2, t=0., T=1., K=100.):\n",
    "    ttm = T - t\n",
    "    \n",
    "    if ttm < 0:\n",
    "        return (np.zeros(len(S)),np.zeros(len(S)))\n",
    "    elif ttm == 0.:\n",
    "        return (np.maximum(S - K, 0.),np.sign(np.maximum(S - K, 0.)))\n",
    "\n",
    "    vol = sigma * np.sqrt(ttm)\n",
    "\n",
    "    d_minus = np.log(S / K) + (r - q - 0.5 * sigma**2) * ttm\n",
    "    d_minus /= vol \n",
    "\n",
    "    d_plus = d_minus + vol\n",
    "    \n",
    "    F = S * np.exp((r - q) * ttm)\n",
    "    \n",
    "    res = F * norm.cdf(d_plus)\n",
    "    res -= K * norm.cdf(d_minus)\n",
    "    res *= np.exp(-r * ttm)\n",
    "    delta=norm.cdf(d_plus)\n",
    "    \n",
    "    return (res,delta)"
   ]
  },
  {
   "cell_type": "markdown",
   "metadata": {},
   "source": [
    "# Multiple options"
   ]
  },
  {
   "cell_type": "code",
   "execution_count": 12,
   "metadata": {
    "collapsed": true
   },
   "outputs": [],
   "source": [
    "def bs_portfolio(S=100., r=0.02, q=0.01, sigma=0.2, t=0.,\n",
    "                 T=[0.8 , 1.0], K=[100. , 120.]):\n",
    "    \n",
    "        portfolio = [bs_call_price(S, r, q, sigma, t, T_c,K_c)\n",
    "                     for T_c,K_c in zip(T,K)]\n",
    "        \n",
    "        return(np.sum(portfolio,axis = 0))"
   ]
  },
  {
   "cell_type": "markdown",
   "metadata": {},
   "source": [
    "# Finite difference algorithms"
   ]
  },
  {
   "cell_type": "markdown",
   "metadata": {},
   "source": [
    "To derive the explicit scheme on $X:=\\ln S$, one should firstly notice that there exists a simple relation between the derivative on $X$ and derivative on $S$:\n",
    "\\begin{align*}\n",
    "S\\partial_{S}&=\\partial_{X}\\\\\n",
    "S^{2}\\partial_{S^{2}}^{2}&=\\partial^{2}_{X^{2}}-\\partial_{X}\n",
    "\\end{align*}\n",
    "With these two relations, one can easily rewrite the PDF above using X, and thus derive the backward explicit scheme on $X$:\n",
    "\\begin{align*}\n",
    "\\dfrac{v_{X}^{t}-v_{X}^{t-\\Delta t}}{\\Delta t}+(r-q-\\dfrac{1}{2}\\sigma^2)\\dfrac{v_{X+\\Delta X}^{t}-v_{X-\\Delta X}^{t}}{2\\Delta X}+\\dfrac{1}{2}\\sigma^2\\dfrac{v_{X+\\Delta X}^{t}-2v_{X}^{t}+v_{X-\\Delta X}^{t}}{(\\Delta X)^{2}}+\\\\\n",
    "\\lambda(\\tilde{u}_{bs}(t,X)-v_{X}^{t}-\\alpha f \\sigma|e^{X}\\tilde{\\Delta}_{bs}(t,X)-\\dfrac{v_{X+\\Delta X}^{t}-v_{X}^{t}}{\\Delta X}|)^{+}-rv_{X}^{t}=0\n",
    "\\end{align*}\n",
    "where $\\tilde{f}_{bs}(t,X)=f_{bs}(t,S)$, $f=ubs,\\Delta$"
   ]
  },
  {
   "cell_type": "markdown",
   "metadata": {},
   "source": [
    "# Boundary Condition#\n",
    "Since the numerical implementation requires localizing the problem on a bounded domain, the judicious boundary conditions have to be imposed. Now that it's difficult to determine directly a good approximation for the boundary value, the Dirichlet boundary is not pratical here. Instead, it's reasonable to assume that for a intensive mesh, the boundary value is very close to the nearest point in a given time. \n",
    "\n",
    "A rational choice will be the Van Neuman conditions specify the value of the first order derivatives function at the boundary of the PDE.\n",
    "Here, we use the following a Van Neuman condition which equals zero so as to satisfy the invariance near the boundary:\n",
    "\n",
    "\\begin{align*}\n",
    "{\\displaystyle {\\frac {\\partial FVA}{\\partial \\mathbf {x} }}(\\mathbf {x} )=0 \\quad \\forall \\mathbf {x} \\in \\partial D }\n",
    "\\end{align*}\n"
   ]
  },
  {
   "cell_type": "markdown",
   "metadata": {},
   "source": [
    "# Grid settings and Model parameters"
   ]
  },
  {
   "cell_type": "code",
   "execution_count": 13,
   "metadata": {
    "collapsed": true
   },
   "outputs": [],
   "source": [
    "### setting of model-specific parameters\n",
    "r = 0.1\n",
    "q = 0.01\n",
    "sigma = 0.8\n",
    "lamda = 0.02\n",
    "f = 1.96\n",
    "\n",
    "### define the function to decide the range and the number of grids for log price \n",
    "def gridsetting(S,T_range,M):\n",
    "    \n",
    "    Phi_99 = 2.58\n",
    "    \n",
    "    Mean = np.log(S) + (r - q - 0.5 * sigma**2) * T_range\n",
    "    Con_Int = sigma * Phi_99 * np.sqrt(T_range)\n",
    "    \n",
    "    X_max = Mean + Con_Int\n",
    "    X_max = np.ceil(X_max)\n",
    "    \n",
    "    X_min = Mean - Con_Int\n",
    "    X_min = np.floor(X_min)\n",
    "    \n",
    "    # number of grids on log price range\n",
    "    N = int(np.sqrt((X_max - X_min)**2 * M / T_range))\n",
    "    \n",
    "    return(X_max, X_min, N)"
   ]
  },
  {
   "cell_type": "markdown",
   "metadata": {},
   "source": [
    "# Solve the PDE by finite difference"
   ]
  },
  {
   "cell_type": "code",
   "execution_count": 14,
   "metadata": {
    "collapsed": true
   },
   "outputs": [],
   "source": [
    "### setting of contract-specific parameters\n",
    "S=100 # initial stock price\n",
    "T_range = 1.0 # range on time space is [O,T_range)\n",
    "M = 900 # number of grids on time range\n",
    "\n",
    "   \n",
    "X_max, X_min, N = gridsetting(S,T_range,M) \n",
    "\n",
    "# define the function to solve the PDE\n",
    "def EDP(T=[1.0 , 0.8], K=[100. , 120.], alpha = 0.1):\n",
    "    \n",
    "    dt = T_range / M\n",
    "    dx = (X_max - X_min) / N\n",
    "    \n",
    "    c_bc = 0\n",
    "    \n",
    "    X_linspace = np.linspace(X_min,X_max,N+1)\n",
    "    \n",
    "    # initialization of solution area\n",
    "    # the terminal condition is already satisfied within the initialization\n",
    "    U = np.zeros((N+1,M+1))\n",
    "\n",
    "    def Iteration(t,Ut, alpha):\n",
    "        \n",
    "        Ut_p = np.zeros(len(Ut))        \n",
    "        \n",
    "        S_linspace = np.exp(X_linspace)        \n",
    "        \n",
    "        ubs, delta = bs_portfolio(S_linspace, r, q, sigma, t, T, K)\n",
    "        \n",
    "        p1 = Ut[1:-1]        \n",
    "        \n",
    "        p2 = (r - q - 0.5 * sigma**2 ) * (Ut[2:] - Ut[:-2]) * (2 * dt / dx)\n",
    "        \n",
    "        p3 = 0.5 * sigma**2 * (Ut[2:] - 2 * Ut[1:-1] + Ut[:-2]) * (dt / dx**2)\n",
    "        \n",
    "        \n",
    "        p4_c = ubs[1:-1] - Ut[1:-1] - sigma * alpha * f * \\\n",
    "        abs(S_linspace[1:-1] * delta[1:-1] - (Ut[2:] - Ut[:-2]) / (2 * dx))\n",
    "        p4 = dt * lamda * np.maximum(p4_c, 0)\n",
    "        \n",
    "        p5 = -dt * r * Ut[1:-1]    \n",
    "        \n",
    "        Ut_p[1:-1] = p1 + p2 + p3 + p4 + p5\n",
    "        \n",
    "        ### apply boundary condition\n",
    "        Ut_p[0] = Ut_p[1] - dx * c_bc\n",
    "        Ut_p[-1] = Ut_p[-2] + dx * c_bc\n",
    "        \n",
    "        return Ut_p\n",
    "\n",
    "    # recursively solve the PDE by finite difference\n",
    "    for k in range(M,0,-1):\n",
    "        U[:,k-1] = Iteration(k*dt, U[:,k], alpha)  \n",
    "    return U\n",
    "\n",
    "\n",
    "# apply the PDE solver\n",
    "# Attetion, the input T and K is in the form of list\n",
    "U = EDP(T=[1.0], K=[100], alpha = 0.1)"
   ]
  },
  {
   "cell_type": "code",
   "execution_count": 15,
   "metadata": {},
   "outputs": [
    {
     "data": {
      "image/png": "[encoded data removed]",
      "text/plain": [
       "<matplotlib.figure.Figure at 0x179f15c0>"
      ]
     },
     "metadata": {},
     "output_type": "display_data"
    }
   ],
   "source": [
    "plt.pcolor(np.linspace(0, T_range, M+1),\n",
    "           np.exp(np.linspace(X_min, X_max, N+1)), U)\n",
    "plt.title('Heatmap of FVA')\n",
    "# set the limits of the plot to the limits of the data\n",
    "plt.axis([0, T_range, np.exp(X_min), np.exp(X_max)])\n",
    "plt.colorbar()\n",
    "plt.show()"
   ]
  },
  {
   "cell_type": "code",
   "execution_count": 16,
   "metadata": {},
   "outputs": [
    {
     "data": {
      "text/plain": [
       "0.22018908304824564"
      ]
     },
     "execution_count": 16,
     "metadata": {},
     "output_type": "execute_result"
    }
   ],
   "source": [
    "# Finally, the FVA of a at-the-money option is given \n",
    "idx = np.argmin(np.abs(np.exp(np.linspace(X_min, X_max, N+1)) - S))\n",
    "FVA = U[idx,0]\n",
    "FVA"
   ]
  },
  {
   "cell_type": "markdown",
   "metadata": {},
   "source": [
    "At last, it could be interesting to investigate the relation between the hedge propotion $\\alpha$ and the FVA."
   ]
  },
  {
   "cell_type": "code",
   "execution_count": 9,
   "metadata": {},
   "outputs": [
    {
     "data": {
      "image/png": "[encoded data removed]",
      "text/plain": [
       "<matplotlib.figure.Figure at 0x8aaea90>"
      ]
     },
     "metadata": {},
     "output_type": "display_data"
    }
   ],
   "source": [
    "FVA_v = [EDP(T=[1.0], K=[100], alpha = alpha)[idx,0] \n",
    "         for alpha in np.linspace(0,1,11)]\n",
    "plt.plot(np.linspace(0,1,11), FVA_v, \"o\",np.linspace(0,1,11), FVA_v)\n",
    "plt.show()"
   ]
  },
  {
   "cell_type": "markdown",
   "metadata": {},
   "source": [
    "# Remark : Courant–Friedrichs–Lewy (CFL) condition"
   ]
  },
  {
   "cell_type": "markdown",
   "metadata": {},
   "source": [
    "To check the stability of the schema, we use the CFL of the following form:\n",
    "$C=\\frac{\\triangle t}{\\triangle S^2}\\leq C_{max}$  \n",
    "\n",
    "The value of  $C_{max}$ changes with the method used to solve the discretised equation, especially depending on whether the method is explicit or implicit. Here we use an explicit schema, then a common choice of $C_{max}$ will be 1. "
   ]
  }
 ],
 "metadata": {
  "kernelspec": {
   "display_name": "Python 2",
   "language": "python",
   "name": "python2"
  },
  "language_info": {
   "codemirror_mode": {
    "name": "ipython",
    "version": 2
   },
   "file_extension": ".py",
   "mimetype": "text/x-python",
   "name": "python",
   "nbconvert_exporter": "python",
   "pygments_lexer": "ipython2",
   "version": "2.7.13"
  }
 },
 "nbformat": 4,
 "nbformat_minor": 2
}
